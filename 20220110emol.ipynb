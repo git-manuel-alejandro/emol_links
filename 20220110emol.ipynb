{
 "cells": [
  {
   "cell_type": "code",
   "execution_count": 1,
   "id": "8ad745e0",
   "metadata": {},
   "outputs": [],
   "source": [
    "import requests\n",
    "from bs4 import BeautifulSoup\n",
    "import pandas as pd\n",
    "from datetime import date"
   ]
  },
  {
   "cell_type": "code",
   "execution_count": 2,
   "id": "ffae76b1",
   "metadata": {},
   "outputs": [],
   "source": [
    "today = date.today()\n",
    "url = 'https://www.emol.com/movil/'\n"
   ]
  },
  {
   "cell_type": "code",
   "execution_count": 3,
   "id": "0686641d",
   "metadata": {},
   "outputs": [],
   "source": [
    "page = requests.get(url)\n",
    "soup = BeautifulSoup(page.content, \"html.parser\")"
   ]
  },
  {
   "cell_type": "code",
   "execution_count": 4,
   "id": "522b3f80",
   "metadata": {
    "scrolled": true
   },
   "outputs": [],
   "source": [
    "content_title = soup.find_all('a')\n",
    "\n",
    "# for title in content_title:\n",
    "#     sub = title.find_all('a')\n",
    "#     print(sub[0].attrs.get('href'))\n",
    "    "
   ]
  },
  {
   "cell_type": "code",
   "execution_count": null,
   "id": "03990b08",
   "metadata": {},
   "outputs": [],
   "source": []
  },
  {
   "cell_type": "code",
   "execution_count": 5,
   "id": "e2564f9f",
   "metadata": {},
   "outputs": [],
   "source": [
    "link = soup.find_all('a')\n",
    "href = []\n",
    "\n",
    "for i in range(len(link)):\n",
    "    a = link[i].attrs.get('href')\n",
    "    if type(a) == str:\n",
    "        if a.startswith('/noticias'):\n",
    "            href.append(a)\n",
    "        else:\n",
    "            continue\n",
    "        \n",
    "    else:\n",
    "        continue\n",
    "        \n",
    "\n",
    "\n",
    "    \n",
    "\n",
    "        \n",
    "    "
   ]
  },
  {
   "cell_type": "code",
   "execution_count": 6,
   "id": "0ef599b8",
   "metadata": {},
   "outputs": [
    {
     "data": {
      "text/plain": [
       "62"
      ]
     },
     "execution_count": 6,
     "metadata": {},
     "output_type": "execute_result"
    }
   ],
   "source": [
    "state = True\n",
    "data = []\n",
    "substring = \"#comentarios\"\n",
    "for i in href:\n",
    "    if substring in i:\n",
    "        state = False\n",
    "    else:\n",
    "#         data.append(i)\n",
    "        data.append('https://www.emol.com/movil'+i)\n",
    "        \n",
    "\n",
    "len(data)\n",
    "        "
   ]
  },
  {
   "cell_type": "code",
   "execution_count": 7,
   "id": "cd3a1262",
   "metadata": {},
   "outputs": [
    {
     "data": {
      "text/html": [
       "<div>\n",
       "<style scoped>\n",
       "    .dataframe tbody tr th:only-of-type {\n",
       "        vertical-align: middle;\n",
       "    }\n",
       "\n",
       "    .dataframe tbody tr th {\n",
       "        vertical-align: top;\n",
       "    }\n",
       "\n",
       "    .dataframe thead th {\n",
       "        text-align: right;\n",
       "    }\n",
       "</style>\n",
       "<table border=\"1\" class=\"dataframe\">\n",
       "  <thead>\n",
       "    <tr style=\"text-align: right;\">\n",
       "      <th></th>\n",
       "      <th>link</th>\n",
       "    </tr>\n",
       "  </thead>\n",
       "  <tbody>\n",
       "    <tr>\n",
       "      <th>0</th>\n",
       "      <td>https://www.emol.com/movil/noticias/Nacional/2...</td>\n",
       "    </tr>\n",
       "    <tr>\n",
       "      <th>1</th>\n",
       "      <td>https://www.emol.com/movil/noticias/Nacional/2...</td>\n",
       "    </tr>\n",
       "    <tr>\n",
       "      <th>2</th>\n",
       "      <td>https://www.emol.com/movil/noticias/Nacional/2...</td>\n",
       "    </tr>\n",
       "    <tr>\n",
       "      <th>3</th>\n",
       "      <td>https://www.emol.com/movil/noticias/Nacional/2...</td>\n",
       "    </tr>\n",
       "    <tr>\n",
       "      <th>4</th>\n",
       "      <td>https://www.emol.com/movil/noticias/Nacional/2...</td>\n",
       "    </tr>\n",
       "  </tbody>\n",
       "</table>\n",
       "</div>"
      ],
      "text/plain": [
       "                                                link\n",
       "0  https://www.emol.com/movil/noticias/Nacional/2...\n",
       "1  https://www.emol.com/movil/noticias/Nacional/2...\n",
       "2  https://www.emol.com/movil/noticias/Nacional/2...\n",
       "3  https://www.emol.com/movil/noticias/Nacional/2...\n",
       "4  https://www.emol.com/movil/noticias/Nacional/2..."
      ]
     },
     "execution_count": 7,
     "metadata": {},
     "output_type": "execute_result"
    }
   ],
   "source": [
    "df = pd.DataFrame({'link': data})\n",
    "df.head()\n"
   ]
  },
  {
   "cell_type": "code",
   "execution_count": 8,
   "id": "46d3d0c7",
   "metadata": {},
   "outputs": [],
   "source": [
    "df.to_csv(f'{today}.csv')"
   ]
  },
  {
   "cell_type": "code",
   "execution_count": null,
   "id": "677559cd",
   "metadata": {},
   "outputs": [],
   "source": []
  },
  {
   "cell_type": "code",
   "execution_count": null,
   "id": "a47ea4b8",
   "metadata": {},
   "outputs": [],
   "source": []
  }
 ],
 "metadata": {
  "kernelspec": {
   "display_name": "Python 3 (ipykernel)",
   "language": "python",
   "name": "python3"
  },
  "language_info": {
   "codemirror_mode": {
    "name": "ipython",
    "version": 3
   },
   "file_extension": ".py",
   "mimetype": "text/x-python",
   "name": "python",
   "nbconvert_exporter": "python",
   "pygments_lexer": "ipython3",
   "version": "3.9.7"
  }
 },
 "nbformat": 4,
 "nbformat_minor": 5
}
